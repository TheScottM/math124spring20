{
 "cells": [
  {
   "cell_type": "markdown",
   "metadata": {},
   "source": [
    "# Math 124 - Programming for Mathematical Applications\n",
    "UC Berkeley, Spring 2020\n",
    "\n",
    "## Homework 8\n",
    "Due Wednesday, March 18"
   ]
  },
  {
   "cell_type": "code",
   "execution_count": 1,
   "metadata": {},
   "outputs": [],
   "source": [
    "using LinearAlgebra, PyPlot   # Packages needed"
   ]
  },
  {
   "cell_type": "markdown",
   "metadata": {},
   "source": [
    "### Problem 1\n",
    "\n",
    "From Think Julia:\n",
    "\n",
    "> Give me a word with three consecutive double letters. I’ll give you a couple of words that\n",
    "> almost qualify, but don’t. For example, the word committee, c-o-m-m-i-t-t-e-e. It would be\n",
    "> great except for the i that sneaks in there. Or Mississippi: M-i-s-s-i-s-s-i-p-p-i. If you\n",
    "> could take out those i’s it would work. But there is a word that has three consecutive pairs\n",
    "> of letters and to the best of my knowledge this may be the only word. Of course there are\n",
    "> probably 500 more but I can only think of one. What is the word?\n",
    "\n",
    "Write a program to find these words. First download the file <https://github.com/BenLauwens/ThinkJulia.jl/blob/master/data/words.txt> to your computer, and upload it to the datahub in the same directory that you keep your notebook. Then read each line of the file, and if the you find the pattern described above, print the word."
   ]
  },
  {
   "cell_type": "code",
   "execution_count": null,
   "metadata": {},
   "outputs": [],
   "source": []
  },
  {
   "cell_type": "markdown",
   "metadata": {},
   "source": [
    "### Problem 2 - Cubic splines\n",
    "\n",
    "Consider the interpolation of $n+1$ data points $(x_i,y_i)$, $i=0,\\ldots,n$. A *cubic spline function* $S(x)$ is a piecewise cubic polynomial, that is, if $x_j\\le x\\le x_{j+1}$ then $S(x) = S_j(x)$ where\n",
    "\n",
    "$$\n",
    "\\begin{align*}\n",
    "S_j(x) = y_j + b_j(x-x_j)+c_j(x-x_j)^2+d_j(x-x_j)^3\n",
    "\\end{align*}\n",
    "$$\n",
    "\n",
    "The coefficients $b_j,c_j,d_j$, $j=0,\\ldots,n-1$, are chosen such that the function is smooth and interpolates the given data."
   ]
  },
  {
   "cell_type": "markdown",
   "metadata": {},
   "source": [
    "#### Problem 2(a)\n",
    "\n",
    "Write a function with the syntax `b,c,d = cubic_spline(x,y)`, which takes input data as vectors $\\boldsymbol{x},\\boldsymbol{y}$ and solves for the coefficient vectors $\\boldsymbol{b},\\boldsymbol{c},\\boldsymbol{d}$ as described below. Create the matrix as a \n",
    "`Tridiagonal` matrix type in Julia, with the command `Tridiagonal(dl, d, du)` for lower-diagonal\n",
    "`dl`, diagonal `d`, and upper-diagonal `du`.\n",
    "\n",
    "Set $h_j=x_{j+1}-x_j$, $j=0,\\ldots,n-1$, and solve the following linear system $A\\boldsymbol{c}=\\boldsymbol{f}$:\n",
    "\n",
    "$$\n",
    "\\begin{align*}\n",
    "A &=\n",
    "\\begin{pmatrix}\n",
    "1 & 0 \\\\\n",
    "h_0 & 2(h_0+h_1) & h_1 \\\\\n",
    "    & \\ddots & \\ddots & \\ddots \\\\\n",
    "    &  & h_{n-2} & 2(h_{n-2}+h_{n-1}) & h_{n-1} \\\\\n",
    "    &  &         & 0 & 1\n",
    "\\end{pmatrix} \\\\\n",
    "\\boldsymbol{f}&=(0,3(y_2-y_1)/h_1-3(y_1-y_0)/h_0,\\ldots, \\\\\n",
    "      &\\ \\ \\ \\ \\ \\ \\ \\ \\ 3(y_n-y_{n-1})/h_{n-1}-3(y_{n-1}-y_{n-2})/h_{n-2},0)^T \\\\\n",
    "\\boldsymbol{c}&=(c_0,\\ldots,c_n)^T\n",
    "\\end{align*}\n",
    "$$\n",
    "\n",
    "Finally, compute the vectors $\\boldsymbol{b},\\boldsymbol{d}$ as\n",
    "\n",
    "$$\n",
    "\\begin{align*}\n",
    "b_j &= (y_{j+1}-y_j)/h_j-h_j(2c_j+c_{j+1})/3 \\\\\n",
    "d_j &= (c_{j+1}-c_j)/(3h_j)\n",
    "\\end{align*}\n",
    "$$\n",
    "\n",
    "where $j=0,\\ldots,n-1$."
   ]
  },
  {
   "cell_type": "code",
   "execution_count": null,
   "metadata": {},
   "outputs": [],
   "source": []
  },
  {
   "cell_type": "markdown",
   "metadata": {},
   "source": [
    "#### Problem 2(b)\n",
    "\n",
    "Write a function with the syntax `yy = spline_eval(x, y, b, c, d, xx)` which evaluates the spline defined by the data `x,y` and the computed coefficient vectors `b,c,d` at all the $x$-coordinates in `xx`."
   ]
  },
  {
   "cell_type": "code",
   "execution_count": null,
   "metadata": {},
   "outputs": [],
   "source": []
  },
  {
   "cell_type": "markdown",
   "metadata": {},
   "source": [
    "#### Problem 2(c)\n",
    "\n",
    "Test your function by computing the spline interpolant of the function\n",
    "\n",
    "$$\n",
    "f(x) = e^{-x/2}\\sin 2x\n",
    "$$\n",
    "\n",
    "at the interpolation points $(x_i, f(x_i))$, $i=0,\\ldots,10$.\n",
    "\n",
    "Plot the original function and the spline interpolant on the interval $0\\le x \\le 10$.\n",
    "Also plot markers at the interpolation points."
   ]
  },
  {
   "cell_type": "code",
   "execution_count": null,
   "metadata": {},
   "outputs": [],
   "source": []
  }
 ],
 "metadata": {
  "kernelspec": {
   "display_name": "Julia 1.0.3",
   "language": "julia",
   "name": "julia-1.0"
  },
  "language_info": {
   "file_extension": ".jl",
   "mimetype": "application/julia",
   "name": "julia",
   "version": "1.0.3"
  }
 },
 "nbformat": 4,
 "nbformat_minor": 2
}
