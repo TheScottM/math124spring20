{
 "cells": [
  {
   "cell_type": "markdown",
   "metadata": {},
   "source": [
    "# Math 124 - Programming for Mathematical Applications\n",
    "\n",
    "UC Berkeley, Spring 2020\n",
    "\n",
    "## Homework 1\n",
    "\n",
    "Due Wednesday Jan 29\n",
    "\n",
    "----------------------------------------------------------------------------"
   ]
  },
  {
   "cell_type": "markdown",
   "metadata": {},
   "source": [
    "### Problem 1\n",
    "\n",
    "Fill in all the question marks in the comments (first try without running any code)."
   ]
  },
  {
   "cell_type": "code",
   "execution_count": 1,
   "metadata": {},
   "outputs": [],
   "source": [
    "X = 8;\n",
    "# X = ?, Y = ?\n",
    "Y = X;\n",
    "# X = ?, Y = ?\n",
    "X = Y;\n",
    "# X = ?, Y = ?\n",
    "X *= 2;\n",
    "# X = ?, Y = ?\n",
    "Y /= 2;\n",
    "# X = ?, Y = ?"
   ]
  },
  {
   "cell_type": "markdown",
   "metadata": {},
   "source": [
    "### Problem 2\n",
    "\n",
    "Write code to calculate and output the sum\n",
    "$1\\cdot 2 + 2\\cdot 3 + \\cdots + 249\\cdot 250$."
   ]
  },
  {
   "cell_type": "code",
   "execution_count": null,
   "metadata": {},
   "outputs": [],
   "source": []
  },
  {
   "cell_type": "markdown",
   "metadata": {},
   "source": [
    "### Problem 3\n",
    "\n",
    "(from **Insight**, P1.1.6)\n",
    "\n",
    "An ellipse with semiaxes $a$ and $b$ is specified by\n",
    "\n",
    "$$\\left( \\frac{x}{a} \\right)^2 + \\left( \\frac{y}{b} \\right)^2 = 1$$\n",
    "\n",
    "If $r=a=b$, then this defines a circle whose perimeter is given by $P=2\\pi r$.\n",
    "Unfortunately, if $a \\ne b$, then there is no simple formula for the perimeter\n",
    "and we must resort to approximation. Numerous possibilities have been worked out:\n",
    "\n",
    "\\begin{align*}\n",
    "P_1 &= \\pi(a+b) & P_5 &= \\pi(a+b)\\left(1+\\frac{3h}{10+\\sqrt{4-3h}}\\right) \\\\\n",
    "P_2 &= \\pi\\sqrt{2(a^2+b^2)} & P_6 &= \\pi(a+b)\\frac{64-3h^2}{64-16h} \\\\\n",
    "P_3 &= \\pi\\sqrt{2(a^2+b^2)-\\frac{(a-b)^2}{2}} & \n",
    "   P_7 &= \\pi(a+b)\\frac{256-48h-21h^2}{256-112h+3h^2} \\\\\n",
    "P_4 &= \\pi(a+b)\\left(1+\\frac{h}{8}\\right)^2 &\n",
    "   P_8 &= \\pi(a+b)\\left(\\frac{3-\\sqrt{1-h}}{2}\\right)\n",
    "\\end{align*}\n",
    "\n",
    "Here,\n",
    "\n",
    "$$ h = \\left(\\frac{a-b}{a+b}\\right)^2 $$\n",
    "\n",
    "can be regarded as a departure from \"circlehood.\""
   ]
  },
  {
   "cell_type": "markdown",
   "metadata": {},
   "source": [
    "### Problem 3 (a)\n",
    "\n",
    "Write a function `printallP(a,b)` which computes each of the 8 approximations\n",
    "and prints each value using `println`."
   ]
  },
  {
   "cell_type": "code",
   "execution_count": null,
   "metadata": {},
   "outputs": [],
   "source": []
  },
  {
   "cell_type": "markdown",
   "metadata": {},
   "source": [
    "### Problem 3 (b)\n",
    "\n",
    "Run `printallP` for the parameters $(a,b) = (1,1)$, $(1,0.5)$, and $(1,0.1)$."
   ]
  },
  {
   "cell_type": "code",
   "execution_count": null,
   "metadata": {},
   "outputs": [],
   "source": []
  },
  {
   "cell_type": "code",
   "execution_count": null,
   "metadata": {},
   "outputs": [],
   "source": []
  },
  {
   "cell_type": "code",
   "execution_count": null,
   "metadata": {},
   "outputs": [],
   "source": []
  },
  {
   "cell_type": "markdown",
   "metadata": {},
   "source": [
    "### Problem 4\n",
    "\n",
    "Consider the sequence defined by the recurrence\n",
    "\n",
    "\\begin{align*}\n",
    "x_0 &= 0, \\\\\n",
    "x_n &= \\frac{2(n-1)}{n}x_{n-1} + \\frac{1}{n}\n",
    "\\end{align*}\n",
    "\n",
    "Write a function `seq1(n)` which computes $x_n$ for a given integer $n\\ge 1$. Use it to compute $x_{16}$.\n"
   ]
  },
  {
   "cell_type": "code",
   "execution_count": null,
   "metadata": {},
   "outputs": [],
   "source": []
  },
  {
   "cell_type": "markdown",
   "metadata": {},
   "source": [
    "### Problem 5\n",
    "\n",
    "(from **Insight**, P2.1.5)\n",
    "\n",
    "For large $n$,\n",
    "\n",
    "\\begin{align*}\n",
    "R_n &= 1 - \\frac13 + \\cdots - \\frac{(-1)^{n+1}}{2n-1} = \\sum_{k=1}^n\n",
    "  \\frac{(-1)^{k+1}}{2k-1} \\approx \\frac{\\pi}{4} \\\\\n",
    "T_n &= 1 + \\frac{1}{2^2} + \\cdots + \\frac{1}{n^2} = \\sum_{k=1}^n \\frac{1}{k^2}\n",
    "  \\approx \\frac{\\pi^2}{6} \\\\\n",
    "U_n &= 1 + \\frac{1}{2^4} + \\cdots + \\frac{1}{n^4} = \\sum_{k=1}^n \\frac{1}{k^4}\n",
    "  \\approx \\frac{\\pi^4}{90}\n",
    "\\end{align*}\n",
    "\n",
    "giving three different ways to estimate $\\pi$:\n",
    "\n",
    "\\begin{align*}\n",
    "\\rho_n &= 4 R_n \\\\\n",
    "\\tau_n &= \\sqrt{6 T_n} \\\\\n",
    "\\mu_n &= \\sqrt[4]{90 U_n}.\n",
    "\\end{align*}"
   ]
  },
  {
   "cell_type": "markdown",
   "metadata": {},
   "source": [
    "### Problem 5 (a)\n",
    "\n",
    "Write 3 functions `Rn(n)`, `Tn(n)`, `Un(n)` which compute $R_n,T_n,U_n$ for a\n",
    "given value of $n$."
   ]
  },
  {
   "cell_type": "code",
   "execution_count": null,
   "metadata": {},
   "outputs": [],
   "source": []
  },
  {
   "cell_type": "markdown",
   "metadata": {},
   "source": [
    "### Problem 5 (b)\n",
    "\n",
    "Write a function `printerror(n)` which computes $\\rho_n,\\tau_n,\\mu_n$ and\n",
    "prints the errors $|\\pi-\\rho_n|$, $|\\pi-\\tau_n|$, and $|\\pi-\\mu_n|$."
   ]
  },
  {
   "cell_type": "code",
   "execution_count": null,
   "metadata": {},
   "outputs": [],
   "source": []
  },
  {
   "cell_type": "markdown",
   "metadata": {},
   "source": [
    "### Problem 5 (c)\n",
    "\n",
    "Run `printerror` for $n=100$, $1000$, and $10000$. \n"
   ]
  },
  {
   "cell_type": "code",
   "execution_count": null,
   "metadata": {},
   "outputs": [],
   "source": []
  },
  {
   "cell_type": "code",
   "execution_count": null,
   "metadata": {},
   "outputs": [],
   "source": []
  },
  {
   "cell_type": "code",
   "execution_count": null,
   "metadata": {},
   "outputs": [],
   "source": []
  }
 ],
 "metadata": {
  "kernelspec": {
   "display_name": "Julia 1.3.0",
   "language": "julia",
   "name": "julia-1.3"
  },
  "language_info": {
   "file_extension": ".jl",
   "mimetype": "application/julia",
   "name": "julia",
   "version": "1.3.0"
  }
 },
 "nbformat": 4,
 "nbformat_minor": 2
}
